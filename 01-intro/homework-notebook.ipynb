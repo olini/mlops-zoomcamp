{
 "cells": [
  {
   "cell_type": "markdown",
   "metadata": {},
   "source": [
    "Homework from 01-Introduction: [link](https://github.com/DataTalksClub/mlops-zoomcamp/blob/main/01-intro/homework.md)"
   ]
  },
  {
   "cell_type": "markdown",
   "metadata": {},
   "source": [
    "# Imports"
   ]
  },
  {
   "cell_type": "code",
   "execution_count": 1,
   "metadata": {},
   "outputs": [],
   "source": [
    "import pickle\n",
    "import numpy as np\n",
    "import pandas as pd\n",
    "import seaborn as sns\n",
    "import matplotlib.pyplot as plt\n",
    "\n",
    "from sklearn.feature_extraction import DictVectorizer\n",
    "from sklearn.linear_model import LinearRegression, Lasso, Ridge\n",
    "from sklearn.metrics import mean_squared_error"
   ]
  },
  {
   "cell_type": "markdown",
   "metadata": {},
   "source": [
    "# Helper Functions"
   ]
  },
  {
   "cell_type": "code",
   "execution_count": 2,
   "metadata": {},
   "outputs": [],
   "source": [
    "def create_trip_duration_column(df):\n",
    "    # trip duration\n",
    "    df[\"trip_duration\"] = df.dropOff_datetime - df.pickup_datetime\n",
    "    # convert trip_duration to minutes\n",
    "    df[\"trip_duration\"] = df[\"trip_duration\"].apply(lambda x: x.total_seconds()/60)\n",
    "\n",
    "    return df\n",
    "\n",
    "def create_pickup_plus_dropoff_id(df):\n",
    "    df[\"PU_DO_ID\"] = df[\"PUlocationID\"].astype(str) + \"_\" + df[\"DOlocationID\"].astype(str)\n",
    "\n",
    "    return df\n",
    "\n",
    "def filter_duration(df):\n",
    "    print(f\"\"\"\n",
    "        Number of records to drop: \n",
    "        {len(df) - \n",
    "        len(\n",
    "            df[(df.trip_duration >= 1) & (df.trip_duration <= 60)]\n",
    "        )}\"\"\")\n",
    "    df = df[(df.trip_duration >= 1) & (df.trip_duration <= 60)]\n",
    "\n",
    "    return df"
   ]
  },
  {
   "cell_type": "markdown",
   "metadata": {},
   "source": [
    "# Load Data"
   ]
  },
  {
   "cell_type": "code",
   "execution_count": 3,
   "metadata": {},
   "outputs": [],
   "source": [
    "df_train = pd.read_parquet(\"../data/fhv_tripdata_2021-01.parquet\")\n",
    "df_val = pd.read_parquet(\"../data/fhv_tripdata_2021-02.parquet\")"
   ]
  },
  {
   "cell_type": "markdown",
   "metadata": {},
   "source": [
    "# Q1"
   ]
  },
  {
   "cell_type": "code",
   "execution_count": 4,
   "metadata": {},
   "outputs": [
    {
     "name": "stdout",
     "output_type": "stream",
     "text": [
      "January data - Number of records: 1154112\n"
     ]
    }
   ],
   "source": [
    "print(f\"January data - Number of records: {len(df_train)}\")"
   ]
  },
  {
   "cell_type": "markdown",
   "metadata": {},
   "source": [
    "# Feature Engineering"
   ]
  },
  {
   "cell_type": "code",
   "execution_count": 5,
   "metadata": {},
   "outputs": [],
   "source": [
    "df_train = create_trip_duration_column(df_train)\n",
    "df_val = create_trip_duration_column(df_val)\n",
    "\n",
    "df_train = create_pickup_plus_dropoff_id(df_train)\n",
    "df_val = create_pickup_plus_dropoff_id(df_val)"
   ]
  },
  {
   "cell_type": "markdown",
   "metadata": {},
   "source": [
    "# Q2"
   ]
  },
  {
   "cell_type": "code",
   "execution_count": 6,
   "metadata": {},
   "outputs": [
    {
     "name": "stdout",
     "output_type": "stream",
     "text": [
      "January data - Average trip duration: 19.167224093791006\n"
     ]
    }
   ],
   "source": [
    "print(f\"January data - Average trip duration: {df_train.trip_duration.mean()}\")"
   ]
  },
  {
   "cell_type": "markdown",
   "metadata": {},
   "source": [
    "# Univariate Analysis"
   ]
  },
  {
   "cell_type": "code",
   "execution_count": 7,
   "metadata": {},
   "outputs": [
    {
     "data": {
      "text/plain": [
       "count    1.154112e+06\n",
       "mean     1.916722e+01\n",
       "std      3.986922e+02\n",
       "min      1.666667e-02\n",
       "25%      7.766667e+00\n",
       "50%      1.340000e+01\n",
       "75%      2.228333e+01\n",
       "max      4.233710e+05\n",
       "Name: trip_duration, dtype: float64"
      ]
     },
     "execution_count": 7,
     "metadata": {},
     "output_type": "execute_result"
    }
   ],
   "source": [
    "df_train.trip_duration.describe()"
   ]
  },
  {
   "cell_type": "code",
   "execution_count": 8,
   "metadata": {},
   "outputs": [
    {
     "name": "stdout",
     "output_type": "stream",
     "text": [
      "\n",
      "        Number of records to drop: \n",
      "        44286\n",
      "\n",
      "        Number of records to drop: \n",
      "        47579\n"
     ]
    }
   ],
   "source": [
    "# due to some strange trip durations and to filter some data, lets filter based on trip_duration\n",
    "df_train = filter_duration(df_train)\n",
    "df_val = filter_duration(df_val)"
   ]
  },
  {
   "cell_type": "markdown",
   "metadata": {},
   "source": [
    "# Select Features"
   ]
  },
  {
   "cell_type": "code",
   "execution_count": 15,
   "metadata": {},
   "outputs": [],
   "source": [
    "# select only some features for the example\n",
    "categorical_features = [\"PUlocationID\", \"DOlocationID\"]\n",
    "numerical_features = [\"trip_distance\"]"
   ]
  },
  {
   "cell_type": "markdown",
   "metadata": {},
   "source": [
    "# Q3"
   ]
  },
  {
   "cell_type": "code",
   "execution_count": 17,
   "metadata": {},
   "outputs": [],
   "source": [
    "df_train[categorical_features] = df_train[categorical_features].fillna(-1)"
   ]
  },
  {
   "cell_type": "code",
   "execution_count": 20,
   "metadata": {},
   "outputs": [
    {
     "name": "stdout",
     "output_type": "stream",
     "text": [
      "\n",
      "January data - % of missing values for pickup location ID: \n",
      "0.8352732770722617\n",
      "\n"
     ]
    }
   ],
   "source": [
    "print(f\"\"\"\n",
    "January data - % of missing values for pickup location ID: \n",
    "{len(df_train[df_train.PUlocationID == -1]) / len(df_train)}\n",
    "\"\"\")"
   ]
  },
  {
   "cell_type": "code",
   "execution_count": 19,
   "metadata": {},
   "outputs": [
    {
     "data": {
      "text/plain": [
       "1109826"
      ]
     },
     "execution_count": 19,
     "metadata": {},
     "output_type": "execute_result"
    }
   ],
   "source": [
    "len(df_train)"
   ]
  },
  {
   "cell_type": "markdown",
   "metadata": {},
   "source": [
    "# Prep Features"
   ]
  },
  {
   "cell_type": "code",
   "execution_count": 22,
   "metadata": {},
   "outputs": [],
   "source": [
    "# tranform the categorical features with one hot encoding\n",
    "# first we transform the categorial features in str type\n",
    "df_train[categorical_features] = df_train[categorical_features].astype(str)\n",
    "# then we transform the df into a matrix using DictVectorizer, \n",
    "# which does the OHE with cat features\n",
    "train_dicts = df_train[categorical_features].to_dict(orient=\"records\")\n",
    "dv = DictVectorizer()\n",
    "X_train = dv.fit_transform(train_dicts)\n",
    "\n",
    "val_dicts = df_val[categorical_features].to_dict(orient=\"records\")\n",
    "X_val = dv.transform(val_dicts)"
   ]
  },
  {
   "cell_type": "code",
   "execution_count": 23,
   "metadata": {},
   "outputs": [],
   "source": [
    "y_train = df_train.trip_duration.values\n",
    "y_val = df_val.trip_duration.values"
   ]
  },
  {
   "cell_type": "markdown",
   "metadata": {},
   "source": [
    "# Q4"
   ]
  },
  {
   "cell_type": "code",
   "execution_count": 24,
   "metadata": {},
   "outputs": [
    {
     "data": {
      "text/plain": [
       "(1109826, 525)"
      ]
     },
     "execution_count": 24,
     "metadata": {},
     "output_type": "execute_result"
    }
   ],
   "source": [
    "X_train.shape"
   ]
  },
  {
   "cell_type": "markdown",
   "metadata": {},
   "source": [
    "# Train Model"
   ]
  },
  {
   "cell_type": "markdown",
   "metadata": {},
   "source": [
    "## Linear Regression"
   ]
  },
  {
   "cell_type": "code",
   "execution_count": 25,
   "metadata": {},
   "outputs": [],
   "source": [
    "lr = LinearRegression()\n",
    "lr.fit(X_train, y_train)\n",
    "y_pred = lr.predict(X_train)"
   ]
  },
  {
   "cell_type": "markdown",
   "metadata": {},
   "source": [
    "# Q5 and Q6"
   ]
  },
  {
   "cell_type": "code",
   "execution_count": 26,
   "metadata": {},
   "outputs": [
    {
     "name": "stdout",
     "output_type": "stream",
     "text": [
      "Training RMSE: 10.528519388409808\n"
     ]
    }
   ],
   "source": [
    "print(f\"Training RMSE: {mean_squared_error(y_train, y_pred, squared = False)}\")"
   ]
  },
  {
   "cell_type": "code",
   "execution_count": 27,
   "metadata": {},
   "outputs": [
    {
     "name": "stdout",
     "output_type": "stream",
     "text": [
      "Validation RMSE: 12.853397099552826\n"
     ]
    }
   ],
   "source": [
    "y_pred_val = lr.predict(X_val)\n",
    "print(f\"Validation RMSE: {mean_squared_error(y_val, y_pred_val, squared = False)}\")"
   ]
  }
 ],
 "metadata": {
  "interpreter": {
   "hash": "5d8e4c49df586e8487fc2313e929839e21067fc5fe6b259124e00d26e73e37fa"
  },
  "kernelspec": {
   "display_name": "Python 3.8.10 ('mlops-zoomcamp': venv)",
   "language": "python",
   "name": "python3"
  },
  "language_info": {
   "codemirror_mode": {
    "name": "ipython",
    "version": 3
   },
   "file_extension": ".py",
   "mimetype": "text/x-python",
   "name": "python",
   "nbconvert_exporter": "python",
   "pygments_lexer": "ipython3",
   "version": "3.8.10"
  },
  "orig_nbformat": 4
 },
 "nbformat": 4,
 "nbformat_minor": 2
}
